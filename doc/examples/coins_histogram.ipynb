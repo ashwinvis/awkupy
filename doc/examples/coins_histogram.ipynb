{
 "cells": [
  {
   "cell_type": "code",
   "execution_count": 1,
   "metadata": {},
   "outputs": [
    {
     "data": {
      "application/javascript": [
       "IPython.CodeCell.options_default.highlight_modes['magic_awk'] = {'reg':[/^%%awk/]};"
      ]
     },
     "metadata": {},
     "output_type": "display_data"
    }
   ],
   "source": [
    "%load_ext iawk"
   ]
  },
  {
   "cell_type": "code",
   "execution_count": 2,
   "metadata": {},
   "outputs": [
    {
     "name": "stdout",
     "output_type": "stream",
     "text": [
      "   gold     1    1986  USA                 American Eagle\r\n",
      "   gold     1    1908  Austria-Hungary     Franz Josef 100 Korona\r\n",
      "   silver  10    1981  USA                 ingot\r\n",
      "   gold     1    1984  Switzerland         ingot\r\n",
      "   gold     1    1979  RSA                 Krugerrand\r\n",
      "   gold     0.5  1981  RSA                 Krugerrand\r\n",
      "   gold     0.1  1986  PRC                 Panda\r\n",
      "   silver   1    1986  USA                 Liberty dollar\r\n",
      "   gold     0.25 1986  USA                 Liberty 5-dollar piece\r\n",
      "   silver   0.5  1986  USA                 Liberty 50-cent piece\r\n",
      "   silver   1    1987  USA                 Constitution dollar\r\n",
      "   gold     0.25 1987  USA                 Constitution 5-dollar piece\r\n",
      "   gold     1    1988  Canada              Maple Leaf\r\n"
     ]
    }
   ],
   "source": [
    "%cat coins.txt"
   ]
  },
  {
   "cell_type": "markdown",
   "metadata": {},
   "source": [
    "## Historical totals\n",
    "\n",
    "Make an dictionary with key as the country given in the 4th column and count the number of times a `gold` was earned. Also add together points earned for gold, given in the 2nd column."
   ]
  },
  {
   "cell_type": "code",
   "execution_count": 3,
   "metadata": {},
   "outputs": [
    {
     "data": {
      "text/plain": [
       "'Country,gold_count,gold_points\\nUSA, 3, 1.5\\nPRC, 1, 0.1\\nAustria-Hungary, 1, 1\\nCanada, 1, 1\\nSwitzerland, 1, 1\\nRSA, 2, 1.5\\n'"
      ]
     },
     "execution_count": 3,
     "metadata": {},
     "output_type": "execute_result"
    }
   ],
   "source": [
    "%%awk coins.txt\n",
    "BEGIN {\n",
    "    print \"Country,gold_count,gold_points\"\n",
    "}\n",
    "/gold/ {\n",
    "    gold_count[$4]++\n",
    "    gold_points[$4] += $2\n",
    "}\n",
    "END {\n",
    "    for (i in gold_count)\n",
    "        print i\", \"gold_count[i]\", \"gold_points[i]\n",
    "}"
   ]
  },
  {
   "cell_type": "code",
   "execution_count": 4,
   "metadata": {
    "scrolled": true
   },
   "outputs": [],
   "source": [
    "from io import StringIO\n",
    "import pandas as pd\n",
    "\n",
    "# output of the previous operation as a StringIO buffer\n",
    "with StringIO(_) as output:\n",
    "    df = pd.read_csv(output, index_col=\"Country\")"
   ]
  },
  {
   "cell_type": "code",
   "execution_count": 5,
   "metadata": {
    "scrolled": false
   },
   "outputs": [
    {
     "data": {
      "text/plain": [
       "<matplotlib.axes._subplots.AxesSubplot at 0x7fecf3287e20>"
      ]
     },
     "execution_count": 5,
     "metadata": {},
     "output_type": "execute_result"
    },
    {
     "data": {
      "image/png": "[encoded data removed]",
      "text/plain": [
       "<Figure size 640x480 with 1 Axes>"
      ]
     },
     "metadata": {},
     "output_type": "display_data"
    }
   ],
   "source": [
    "df.plot.bar(title=\"Historical totals\", color=[\"k\", \"gold\"])"
   ]
  },
  {
   "cell_type": "markdown",
   "metadata": {},
   "source": [
    "## Points tally by the year\n",
    "\n",
    "Plot points earned by the year (3rd column) by USA"
   ]
  },
  {
   "cell_type": "code",
   "execution_count": 6,
   "metadata": {},
   "outputs": [
    {
     "name": "stdout",
     "output_type": "stream",
     "text": [
      "   gold     1    1986  USA                 American Eagle\r\n",
      "   gold     1    1908  Austria-Hungary     Franz Josef 100 Korona\r\n",
      "   silver  10    1981  USA                 ingot\r\n",
      "   gold     1    1984  Switzerland         ingot\r\n",
      "   gold     1    1979  RSA                 Krugerrand\r\n",
      "   gold     0.5  1981  RSA                 Krugerrand\r\n",
      "   gold     0.1  1986  PRC                 Panda\r\n",
      "   silver   1    1986  USA                 Liberty dollar\r\n",
      "   gold     0.25 1986  USA                 Liberty 5-dollar piece\r\n",
      "   silver   0.5  1986  USA                 Liberty 50-cent piece\r\n",
      "   silver   1    1987  USA                 Constitution dollar\r\n",
      "   gold     0.25 1987  USA                 Constitution 5-dollar piece\r\n",
      "   gold     1    1988  Canada              Maple Leaf\r\n"
     ]
    }
   ],
   "source": [
    "%cat coins.txt"
   ]
  },
  {
   "cell_type": "code",
   "execution_count": 7,
   "metadata": {},
   "outputs": [
    {
     "data": {
      "text/plain": [
       "'Year,gold_points,silver_points\\n1981, , 10\\n1986, 1.25, 1.5\\n1987, 0.25, 1\\n'"
      ]
     },
     "execution_count": 7,
     "metadata": {},
     "output_type": "execute_result"
    }
   ],
   "source": [
    "%%awk coins.txt\n",
    "BEGIN {\n",
    "    print \"Year,gold_points,silver_points\"\n",
    "}\n",
    "/USA/ {\n",
    "    total_points[$3] = $2  \n",
    "    if ($1 == \"gold\") gold_points[$3] += $2\n",
    "    if ($1 == \"silver\") silver_points[$3] += $2\n",
    "\n",
    "}\n",
    "END {\n",
    "    for (i in total_points)\n",
    "        print i\", \"gold_points[i]\", \"silver_points[i]\n",
    "}"
   ]
  },
  {
   "cell_type": "code",
   "execution_count": 8,
   "metadata": {},
   "outputs": [
    {
     "data": {
      "text/html": [
       "<div>\n",
       "<style scoped>\n",
       "    .dataframe tbody tr th:only-of-type {\n",
       "        vertical-align: middle;\n",
       "    }\n",
       "\n",
       "    .dataframe tbody tr th {\n",
       "        vertical-align: top;\n",
       "    }\n",
       "\n",
       "    .dataframe thead th {\n",
       "        text-align: right;\n",
       "    }\n",
       "</style>\n",
       "<table border=\"1\" class=\"dataframe\">\n",
       "  <thead>\n",
       "    <tr style=\"text-align: right;\">\n",
       "      <th></th>\n",
       "      <th>gold_points</th>\n",
       "      <th>silver_points</th>\n",
       "    </tr>\n",
       "    <tr>\n",
       "      <th>Year</th>\n",
       "      <th></th>\n",
       "      <th></th>\n",
       "    </tr>\n",
       "  </thead>\n",
       "  <tbody>\n",
       "    <tr>\n",
       "      <th>1981</th>\n",
       "      <td>0.00</td>\n",
       "      <td>10.0</td>\n",
       "    </tr>\n",
       "    <tr>\n",
       "      <th>1986</th>\n",
       "      <td>1.25</td>\n",
       "      <td>1.5</td>\n",
       "    </tr>\n",
       "    <tr>\n",
       "      <th>1987</th>\n",
       "      <td>0.25</td>\n",
       "      <td>1.0</td>\n",
       "    </tr>\n",
       "  </tbody>\n",
       "</table>\n",
       "</div>"
      ],
      "text/plain": [
       "      gold_points  silver_points\n",
       "Year                            \n",
       "1981         0.00           10.0\n",
       "1986         1.25            1.5\n",
       "1987         0.25            1.0"
      ]
     },
     "execution_count": 8,
     "metadata": {},
     "output_type": "execute_result"
    }
   ],
   "source": [
    "with StringIO(_) as output:\n",
    "    df = pd.read_csv(output, index_col=\"Year\", na_values=[\" \"])\n",
    "\n",
    "df.fillna(0, inplace=True)\n",
    "df"
   ]
  },
  {
   "cell_type": "code",
   "execution_count": 9,
   "metadata": {
    "scrolled": false
   },
   "outputs": [
    {
     "data": {
      "text/plain": [
       "<matplotlib.axes._subplots.AxesSubplot at 0x7fecf2ac16d0>"
      ]
     },
     "execution_count": 9,
     "metadata": {},
     "output_type": "execute_result"
    },
    {
     "data": {
      "image/png": "[encoded data removed]",
      "text/plain": [
       "<Figure size 640x480 with 1 Axes>"
      ]
     },
     "metadata": {},
     "output_type": "display_data"
    }
   ],
   "source": [
    "df.plot.bar(title=\"USA\", color=[\"gold\", \"silver\"])"
   ]
  }
 ],
 "metadata": {
  "kernelspec": {
   "display_name": "Python 3",
   "language": "python",
   "name": "python3"
  },
  "language_info": {
   "codemirror_mode": {
    "name": "ipython",
    "version": 3
   },
   "file_extension": ".py",
   "mimetype": "text/x-python",
   "name": "python",
   "nbconvert_exporter": "python",
   "pygments_lexer": "ipython3",
   "version": "3.8.1"
  }
 },
 "nbformat": 4,
 "nbformat_minor": 4
}
