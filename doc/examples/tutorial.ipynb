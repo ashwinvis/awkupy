{
 "cells": [
  {
   "cell_type": "code",
   "execution_count": 1,
   "metadata": {},
   "outputs": [
    {
     "data": {
      "application/javascript": [
       "IPython.CodeCell.options_default.highlight_modes['magic_awk'] = {'reg':[/^%%awk/]};"
      ]
     },
     "metadata": {},
     "output_type": "display_data"
    }
   ],
   "source": [
    "%load_ext iawk"
   ]
  },
  {
   "cell_type": "markdown",
   "metadata": {},
   "source": [
    "> For the purpose of this tutorial, the long-form versions of the arguments are used."
   ]
  },
  {
   "cell_type": "markdown",
   "metadata": {},
   "source": [
    "## Inline help"
   ]
  },
  {
   "cell_type": "code",
   "execution_count": 2,
   "metadata": {},
   "outputs": [],
   "source": [
    "%%awk_input?"
   ]
  },
  {
   "cell_type": "markdown",
   "metadata": {},
   "source": [
    "```ipython\n",
    "Docstring: Sets input text data.\n",
    "File:      ~/src/projects/awkupy/iawk/__init__.py\n",
    "```"
   ]
  },
  {
   "cell_type": "code",
   "execution_count": 3,
   "metadata": {},
   "outputs": [],
   "source": [
    "%%awk?"
   ]
  },
  {
   "cell_type": "markdown",
   "metadata": {},
   "source": [
    "```ipython\n",
    "  %awk [-f FILE] [-F FIELD_SEPARATOR] [-p] [-s SAVE_AS] [-d] [-v VARIABLE] [-e SOURCE] [input]\n",
    "\n",
    "Execute awk via awkupy API.\n",
    "\n",
    "Examples::\n",
    "\n",
    "    %load_ext iawk\n",
    "\n",
    "    %%awk LICENSE\n",
    "    /^  [0-9]/{print $0}\n",
    "\n",
    "    output = %awk -e '/^  [0-9]/{print $0}' LICENSE\n",
    "    output.splitlines()[0]\n",
    "\n",
    "positional arguments:\n",
    "  input\n",
    "\n",
    "optional arguments:\n",
    "  -f FILE, --file FILE  external awk program\n",
    "  -F FIELD_SEPARATOR, --field-separator FIELD_SEPARATOR\n",
    "                        separate column using a string\n",
    "  -p, --print-output    print output to stdout\n",
    "  -s SAVE_AS, --save-as SAVE_AS\n",
    "                        save output to a file\n",
    "  -d, --debug           debug awk code\n",
    "  -v VARIABLE, --variable VARIABLE\n",
    "                        pass variables to awk, for example, var={value}\n",
    "  -e SOURCE, --source SOURCE\n",
    "                        program text for oneliners\n",
    "File:      ~/src/projects/awkupy/iawk/__init__.py\n",
    "```"
   ]
  },
  {
   "cell_type": "markdown",
   "metadata": {},
   "source": [
    "## Set input to be reused"
   ]
  },
  {
   "cell_type": "code",
   "execution_count": 4,
   "metadata": {},
   "outputs": [],
   "source": [
    "%%awk_input\n",
    "1 2 3\n",
    "4 5 6\n",
    "7 8 9 10 text"
   ]
  },
  {
   "cell_type": "markdown",
   "metadata": {},
   "source": [
    "## Processing a simple algebra over rows"
   ]
  },
  {
   "cell_type": "code",
   "execution_count": 5,
   "metadata": {},
   "outputs": [
    {
     "data": {
      "text/plain": [
       "'7\\n34\\n79\\n'"
      ]
     },
     "execution_count": 5,
     "metadata": {},
     "output_type": "execute_result"
    }
   ],
   "source": [
    "%awk --source '{print $1+$2*$3}'"
   ]
  },
  {
   "cell_type": "code",
   "execution_count": 6,
   "metadata": {},
   "outputs": [
    {
     "name": "stdout",
     "output_type": "stream",
     "text": [
      "['7', '34', '79']\n"
     ]
    }
   ],
   "source": [
    "print(_.splitlines())"
   ]
  },
  {
   "cell_type": "markdown",
   "metadata": {},
   "source": [
    "> N.B: The output can be also neatly printed out to standard output using the `-p / --print-output` argument. It works only in the IPython console at the moment."
   ]
  },
  {
   "cell_type": "markdown",
   "metadata": {},
   "source": [
    "### Debug the magic command"
   ]
  },
  {
   "cell_type": "code",
   "execution_count": 7,
   "metadata": {},
   "outputs": [
    {
     "name": "stdout",
     "output_type": "stream",
     "text": [
      "Code:\n",
      "\r",
      "{print $1+$2*$3}\n",
      "\r",
      "Input:\n",
      "\r",
      "1 2 3\n",
      "4 5 6\n",
      "7 8 9 10 text\n",
      "\n"
     ]
    },
    {
     "data": {
      "text/plain": [
       "'7\\n34\\n79\\n'"
      ]
     },
     "execution_count": 7,
     "metadata": {},
     "output_type": "execute_result"
    }
   ],
   "source": [
    "%awk --debug --source '{print $1+$2*$3}'"
   ]
  },
  {
   "cell_type": "markdown",
   "metadata": {},
   "source": [
    "### Save to a file"
   ]
  },
  {
   "cell_type": "code",
   "execution_count": 8,
   "metadata": {},
   "outputs": [],
   "source": [
    "%awk --save-as output.txt --source '{print $1+$2*$3}'"
   ]
  },
  {
   "cell_type": "code",
   "execution_count": 9,
   "metadata": {},
   "outputs": [
    {
     "name": "stdout",
     "output_type": "stream",
     "text": [
      "7\r\n",
      "34\r\n",
      "79\r\n"
     ]
    }
   ],
   "source": [
    "%cat output.txt"
   ]
  },
  {
   "cell_type": "markdown",
   "metadata": {},
   "source": [
    "## Awk-like arguments `-f, -F, -v`"
   ]
  },
  {
   "cell_type": "code",
   "execution_count": 10,
   "metadata": {},
   "outputs": [],
   "source": [
    "%%awk_input\n",
    "1,2,3\n",
    "4, 5, 6\n",
    "7 ,8, 9,10,text"
   ]
  },
  {
   "cell_type": "markdown",
   "metadata": {},
   "source": [
    "### Custom field separators"
   ]
  },
  {
   "cell_type": "code",
   "execution_count": 11,
   "metadata": {},
   "outputs": [
    {
     "data": {
      "text/plain": [
       "'7\\n34\\n79\\n'"
      ]
     },
     "execution_count": 11,
     "metadata": {},
     "output_type": "execute_result"
    }
   ],
   "source": [
    "%awk --field-separator=, --source '{print $1+$2*$3}'"
   ]
  },
  {
   "cell_type": "markdown",
   "metadata": {},
   "source": [
    "> N.B: Awk is really good at handling poorly formatted CSVs"
   ]
  },
  {
   "cell_type": "markdown",
   "metadata": {},
   "source": [
    "### Pass Python variables into Awk and retrieve output"
   ]
  },
  {
   "cell_type": "markdown",
   "metadata": {},
   "source": [
    "> Let us pass `np.pi` as `x` into Awk and parse the result into a numpy array."
   ]
  },
  {
   "cell_type": "code",
   "execution_count": 12,
   "metadata": {
    "scrolled": true
   },
   "outputs": [
    {
     "name": "stdout",
     "output_type": "stream",
     "text": [
      "[10.1416 37.1416 82.1416]\n"
     ]
    }
   ],
   "source": [
    "import numpy as np\n",
    "\n",
    "result = %awk --field-separator=, --variable x={np.pi} --source '{print $1+$2*$3+x}'\n",
    "print(np.fromstring(result, sep=\"\\n\"))"
   ]
  },
  {
   "cell_type": "markdown",
   "metadata": {},
   "source": [
    "## Execute standalone Awk program files"
   ]
  },
  {
   "cell_type": "code",
   "execution_count": 13,
   "metadata": {},
   "outputs": [
    {
     "name": "stdout",
     "output_type": "stream",
     "text": [
      "\u001b[0m\u001b[01;31mcoins_histogram.awk\u001b[0m*   \u001b[32mcoins_histogram.py\u001b[0m  \u001b[32moutput.txt\u001b[0m\r\n",
      "\u001b[34mcoins_histogram.ipynb\u001b[0m  \u001b[32mcoins.txt\u001b[0m           \u001b[34mtutorial.ipynb\u001b[0m\r\n"
     ]
    }
   ],
   "source": [
    "%ls"
   ]
  },
  {
   "cell_type": "code",
   "execution_count": 14,
   "metadata": {},
   "outputs": [
    {
     "data": {
      "text/plain": [
       "'Country: USA  count:  3\\nCountry: PRC  count:  1\\nCountry: Austria-Hungary  count:  1\\nCountry: Canada  count:  1\\nCountry: Switzerland  count:  1\\nCountry: RSA  count:  2\\n'"
      ]
     },
     "execution_count": 14,
     "metadata": {},
     "output_type": "execute_result"
    }
   ],
   "source": [
    "%awk --file coins_histogram.awk coins.txt"
   ]
  },
  {
   "cell_type": "markdown",
   "metadata": {},
   "source": [
    "## Cell magic"
   ]
  },
  {
   "cell_type": "markdown",
   "metadata": {},
   "source": [
    "> Complicated awk programs are best written in multiple lines using `%%awk` cell magic."
   ]
  },
  {
   "cell_type": "code",
   "execution_count": 15,
   "metadata": {},
   "outputs": [],
   "source": [
    "%%awk_input\n",
    "Pat   100 97 58\n",
    "Sandy  84 72 93\n",
    "Chris  72 92 89"
   ]
  },
  {
   "cell_type": "code",
   "execution_count": 16,
   "metadata": {},
   "outputs": [
    {
     "data": {
      "text/plain": [
       "'Pat 85\\nSandy 83\\nChris 84.3333\\n'"
      ]
     },
     "execution_count": 16,
     "metadata": {},
     "output_type": "execute_result"
    }
   ],
   "source": [
    "%%awk\n",
    "{\n",
    "    sum = $2 + $3 + $4\n",
    "    avg = sum / 3\n",
    "    print $1, avg\n",
    "}"
   ]
  },
  {
   "cell_type": "code",
   "execution_count": 17,
   "metadata": {},
   "outputs": [
    {
     "name": "stdout",
     "output_type": "stream",
     "text": [
      "Pat 85\n",
      "Sandy 83\n",
      "Chris 84.3333\n",
      "\n"
     ]
    }
   ],
   "source": [
    "print(_)"
   ]
  }
 ],
 "metadata": {
  "kernelspec": {
   "display_name": "Python 3",
   "language": "python",
   "name": "python3"
  },
  "language_info": {
   "codemirror_mode": {
    "name": "ipython",
    "version": 3
   },
   "file_extension": ".py",
   "mimetype": "text/x-python",
   "name": "python",
   "nbconvert_exporter": "python",
   "pygments_lexer": "ipython3",
   "version": "3.8.1"
  }
 },
 "nbformat": 4,
 "nbformat_minor": 4
}
